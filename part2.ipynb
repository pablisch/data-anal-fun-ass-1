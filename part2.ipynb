{
 "cells": [
  {
   "metadata": {},
   "cell_type": "markdown",
   "source": "# Data Analytics Fundamentals 1st Summative Assessment - Part 2",
   "id": "be310500892412b7"
  },
  {
   "metadata": {},
   "cell_type": "markdown",
   "source": [
    "This section uses ```stats``` from ```scipy```, so ```scipy``` needs to be installed\n",
    "\n",
    "```pip install scipy```"
   ],
   "id": "2bdc9dbfb695e1bd"
  },
  {
   "metadata": {
    "collapsed": true,
    "ExecuteTime": {
     "end_time": "2025-10-26T15:10:28.032762Z",
     "start_time": "2025-10-26T15:10:28.025431Z"
    }
   },
   "cell_type": "code",
   "source": [
    "import pandas as pd\n",
    "import numpy as np\n",
    "import matplotlib.pyplot as plt\n",
    "import seaborn as sns\n",
    "from scipy import stats\n",
    "\n",
    "from data_source import get_data_frame\n",
    "\n",
    "%matplotlib inline\n",
    "sns.set_theme()\n",
    "\n",
    "print(\"Pandas version:\", pd.__version__)"
   ],
   "id": "37c6b44c34df053e",
   "outputs": [
    {
     "name": "stdout",
     "output_type": "stream",
     "text": [
      "Pandas version: 2.3.3\n"
     ]
    }
   ],
   "execution_count": 1
  },
  {
   "metadata": {
    "ExecuteTime": {
     "end_time": "2025-10-26T15:11:21.865535Z",
     "start_time": "2025-10-26T15:11:21.846129Z"
    }
   },
   "cell_type": "code",
   "source": [
    "cc = get_data_frame()\n",
    "cc.head()"
   ],
   "id": "fe26a4ca22fead28",
   "outputs": [
    {
     "data": {
      "text/plain": [
       "  CustomerID Churn  Tenure  LocalCalls  LocalMins  IntlCalls  IntlMins  \\\n",
       "0  4444-BZPU    No       1           3        8.0        0.0       0.0   \n",
       "1  5676-PTZX    No      33         179      431.3        0.0       0.0   \n",
       "2  8532-ZEKQ    No      44          82      217.6        0.0       0.0   \n",
       "3  1314-SMPJ    No      10          47      111.6       60.0      71.0   \n",
       "4  2956-TXCJ    No      62         184      621.2      310.0     694.4   \n",
       "\n",
       "  IntlActive IntlPlan  ExtraInternationalCharges  ...  Age  Under30 Senior  \\\n",
       "0         No       no                        0.0  ...   35       No     No   \n",
       "1         No       no                        0.0  ...   49       No     No   \n",
       "2         No      yes                        0.0  ...   51       No     No   \n",
       "3        Yes      yes                        0.0  ...   41       No     No   \n",
       "4        Yes      yes                        0.0  ...   51       No     No   \n",
       "\n",
       "   Group NrCustomers DeviceProtection&OnlineBackup        Contract  \\\n",
       "0     No           0                            No  Month-to-Month   \n",
       "1     No           0                           Yes        One Year   \n",
       "2     No           0                           Yes        One Year   \n",
       "3     No           0                            No  Month-to-Month   \n",
       "4     No           0                            No        One Year   \n",
       "\n",
       "   PaymentMethod MonthlyCharges TotalCharges  \n",
       "0   Direct Debit             10           10  \n",
       "1    Paper Check             21          703  \n",
       "2   Direct Debit             23         1014  \n",
       "3    Paper Check             17          177  \n",
       "4   Direct Debit             28         1720  \n",
       "\n",
       "[5 rows x 27 columns]"
      ],
      "text/html": [
       "<div>\n",
       "<style scoped>\n",
       "    .dataframe tbody tr th:only-of-type {\n",
       "        vertical-align: middle;\n",
       "    }\n",
       "\n",
       "    .dataframe tbody tr th {\n",
       "        vertical-align: top;\n",
       "    }\n",
       "\n",
       "    .dataframe thead th {\n",
       "        text-align: right;\n",
       "    }\n",
       "</style>\n",
       "<table border=\"1\" class=\"dataframe\">\n",
       "  <thead>\n",
       "    <tr style=\"text-align: right;\">\n",
       "      <th></th>\n",
       "      <th>CustomerID</th>\n",
       "      <th>Churn</th>\n",
       "      <th>Tenure</th>\n",
       "      <th>LocalCalls</th>\n",
       "      <th>LocalMins</th>\n",
       "      <th>IntlCalls</th>\n",
       "      <th>IntlMins</th>\n",
       "      <th>IntlActive</th>\n",
       "      <th>IntlPlan</th>\n",
       "      <th>ExtraInternationalCharges</th>\n",
       "      <th>...</th>\n",
       "      <th>Age</th>\n",
       "      <th>Under30</th>\n",
       "      <th>Senior</th>\n",
       "      <th>Group</th>\n",
       "      <th>NrCustomers</th>\n",
       "      <th>DeviceProtection&amp;OnlineBackup</th>\n",
       "      <th>Contract</th>\n",
       "      <th>PaymentMethod</th>\n",
       "      <th>MonthlyCharges</th>\n",
       "      <th>TotalCharges</th>\n",
       "    </tr>\n",
       "  </thead>\n",
       "  <tbody>\n",
       "    <tr>\n",
       "      <th>0</th>\n",
       "      <td>4444-BZPU</td>\n",
       "      <td>No</td>\n",
       "      <td>1</td>\n",
       "      <td>3</td>\n",
       "      <td>8.0</td>\n",
       "      <td>0.0</td>\n",
       "      <td>0.0</td>\n",
       "      <td>No</td>\n",
       "      <td>no</td>\n",
       "      <td>0.0</td>\n",
       "      <td>...</td>\n",
       "      <td>35</td>\n",
       "      <td>No</td>\n",
       "      <td>No</td>\n",
       "      <td>No</td>\n",
       "      <td>0</td>\n",
       "      <td>No</td>\n",
       "      <td>Month-to-Month</td>\n",
       "      <td>Direct Debit</td>\n",
       "      <td>10</td>\n",
       "      <td>10</td>\n",
       "    </tr>\n",
       "    <tr>\n",
       "      <th>1</th>\n",
       "      <td>5676-PTZX</td>\n",
       "      <td>No</td>\n",
       "      <td>33</td>\n",
       "      <td>179</td>\n",
       "      <td>431.3</td>\n",
       "      <td>0.0</td>\n",
       "      <td>0.0</td>\n",
       "      <td>No</td>\n",
       "      <td>no</td>\n",
       "      <td>0.0</td>\n",
       "      <td>...</td>\n",
       "      <td>49</td>\n",
       "      <td>No</td>\n",
       "      <td>No</td>\n",
       "      <td>No</td>\n",
       "      <td>0</td>\n",
       "      <td>Yes</td>\n",
       "      <td>One Year</td>\n",
       "      <td>Paper Check</td>\n",
       "      <td>21</td>\n",
       "      <td>703</td>\n",
       "    </tr>\n",
       "    <tr>\n",
       "      <th>2</th>\n",
       "      <td>8532-ZEKQ</td>\n",
       "      <td>No</td>\n",
       "      <td>44</td>\n",
       "      <td>82</td>\n",
       "      <td>217.6</td>\n",
       "      <td>0.0</td>\n",
       "      <td>0.0</td>\n",
       "      <td>No</td>\n",
       "      <td>yes</td>\n",
       "      <td>0.0</td>\n",
       "      <td>...</td>\n",
       "      <td>51</td>\n",
       "      <td>No</td>\n",
       "      <td>No</td>\n",
       "      <td>No</td>\n",
       "      <td>0</td>\n",
       "      <td>Yes</td>\n",
       "      <td>One Year</td>\n",
       "      <td>Direct Debit</td>\n",
       "      <td>23</td>\n",
       "      <td>1014</td>\n",
       "    </tr>\n",
       "    <tr>\n",
       "      <th>3</th>\n",
       "      <td>1314-SMPJ</td>\n",
       "      <td>No</td>\n",
       "      <td>10</td>\n",
       "      <td>47</td>\n",
       "      <td>111.6</td>\n",
       "      <td>60.0</td>\n",
       "      <td>71.0</td>\n",
       "      <td>Yes</td>\n",
       "      <td>yes</td>\n",
       "      <td>0.0</td>\n",
       "      <td>...</td>\n",
       "      <td>41</td>\n",
       "      <td>No</td>\n",
       "      <td>No</td>\n",
       "      <td>No</td>\n",
       "      <td>0</td>\n",
       "      <td>No</td>\n",
       "      <td>Month-to-Month</td>\n",
       "      <td>Paper Check</td>\n",
       "      <td>17</td>\n",
       "      <td>177</td>\n",
       "    </tr>\n",
       "    <tr>\n",
       "      <th>4</th>\n",
       "      <td>2956-TXCJ</td>\n",
       "      <td>No</td>\n",
       "      <td>62</td>\n",
       "      <td>184</td>\n",
       "      <td>621.2</td>\n",
       "      <td>310.0</td>\n",
       "      <td>694.4</td>\n",
       "      <td>Yes</td>\n",
       "      <td>yes</td>\n",
       "      <td>0.0</td>\n",
       "      <td>...</td>\n",
       "      <td>51</td>\n",
       "      <td>No</td>\n",
       "      <td>No</td>\n",
       "      <td>No</td>\n",
       "      <td>0</td>\n",
       "      <td>No</td>\n",
       "      <td>One Year</td>\n",
       "      <td>Direct Debit</td>\n",
       "      <td>28</td>\n",
       "      <td>1720</td>\n",
       "    </tr>\n",
       "  </tbody>\n",
       "</table>\n",
       "<p>5 rows × 27 columns</p>\n",
       "</div>"
      ]
     },
     "execution_count": 5,
     "metadata": {},
     "output_type": "execute_result"
    }
   ],
   "execution_count": 5
  },
  {
   "metadata": {},
   "cell_type": "markdown",
   "source": "### 2. Is there a significant difference in the average monthly charges between customers with and without an international plan?",
   "id": "56af669a0bbec80"
  },
  {
   "metadata": {},
   "cell_type": "markdown",
   "source": "We need to get the series monthly charges with and without international plans",
   "id": "fa7ddb135dfdf379"
  },
  {
   "metadata": {
    "ExecuteTime": {
     "end_time": "2025-10-26T15:20:40.729768Z",
     "start_time": "2025-10-26T15:20:40.725225Z"
    }
   },
   "cell_type": "code",
   "source": [
    "charges_with_plan = cc[cc['IntlPlan'] == 'yes']['MonthlyCharges']\n",
    "charges_without_plan = cc[cc['IntlPlan'] == 'no']['MonthlyCharges']\n",
    "print(f\"Charges with plan type: {type(charges_with_plan)}\\nlength: {len(charges_with_plan)}\")\n",
    "print(f\"Charges without plan type: {type(charges_without_plan)}\\nlength: {len(charges_without_plan)}\")"
   ],
   "id": "9cce43cbbdea998",
   "outputs": [
    {
     "name": "stdout",
     "output_type": "stream",
     "text": [
      "Charges with plan type: <class 'pandas.core.series.Series'>\n",
      "length: 651\n",
      "Charges without plan type: <class 'pandas.core.series.Series'>\n",
      "length: 6036\n"
     ]
    }
   ],
   "execution_count": 12
  },
  {
   "metadata": {},
   "cell_type": "markdown",
   "source": "Then use some funky stats work to perform an independent t-test",
   "id": "b0c672553c80890c"
  },
  {
   "metadata": {
    "ExecuteTime": {
     "end_time": "2025-10-26T15:20:42.998665Z",
     "start_time": "2025-10-26T15:20:42.994030Z"
    }
   },
   "cell_type": "code",
   "source": [
    "t_stat, p_value = stats.ttest_ind(charges_with_plan, charges_without_plan, equal_var=False)\n",
    "print(\"t-statistic:\", t_stat)\n",
    "print(\"p-value:\", p_value)"
   ],
   "id": "252978ef042730ed",
   "outputs": [
    {
     "name": "stdout",
     "output_type": "stream",
     "text": [
      "t-statistic: -2.227902884672216\n",
      "p-value: 0.026164893848244112\n"
     ]
    }
   ],
   "execution_count": 13
  },
  {
   "metadata": {},
   "cell_type": "markdown",
   "source": [
    "The p-value is 0.0262. Less than our confidence of 0.05 suggesting it is significant and we reject the null hypothesis.\n",
    "\n",
    "Yes, there is a significant difference in the average monthly charges between customers with and without an international plan."
   ],
   "id": "3dffb0dddaced341"
  },
  {
   "metadata": {
    "ExecuteTime": {
     "end_time": "2025-10-26T15:29:15.115231Z",
     "start_time": "2025-10-26T15:29:15.112286Z"
    }
   },
   "cell_type": "code",
   "source": [
    "print(f\"Average monthly charges with international plan: {charges_with_plan.mean():.2f}\")\n",
    "print(f\"Average monthly charges without international plan: {charges_without_plan.mean():.2f}\")"
   ],
   "id": "bcd4d5931a0ee779",
   "outputs": [
    {
     "name": "stdout",
     "output_type": "stream",
     "text": [
      "Average monthly charges with international plan: 29.69\n",
      "Average monthly charges without international plan: 31.18\n"
     ]
    }
   ],
   "execution_count": 19
  },
  {
   "metadata": {},
   "cell_type": "markdown",
   "source": "### 3. What is the p-value of the test you used to determine the previous answer?",
   "id": "7806120f469dd00f"
  },
  {
   "metadata": {
    "ExecuteTime": {
     "end_time": "2025-10-26T17:26:11.582144Z",
     "start_time": "2025-10-26T17:26:11.577877Z"
    }
   },
   "cell_type": "code",
   "source": "print(f\"The p-value used is {p_value}\")",
   "id": "b873918c6fcb1246",
   "outputs": [
    {
     "name": "stdout",
     "output_type": "stream",
     "text": [
      "The p-value used is 0.026164893848244112\n"
     ]
    }
   ],
   "execution_count": 20
  },
  {
   "metadata": {},
   "cell_type": "markdown",
   "source": "### 4. Is there a significant difference in the average tenure between male and female customers?",
   "id": "3d5c240759b92573"
  },
  {
   "metadata": {
    "ExecuteTime": {
     "end_time": "2025-10-26T17:31:00.246860Z",
     "start_time": "2025-10-26T17:31:00.243349Z"
    }
   },
   "cell_type": "code",
   "source": [
    "females_tenure = cc[cc[\"Gender\"] == \"Female\"][\"Tenure\"]\n",
    "males_tenure = cc[cc[\"Gender\"] == \"Male\"][\"Tenure\"]\n"
   ],
   "id": "6632f4252374f0bb",
   "outputs": [],
   "execution_count": 24
  },
  {
   "metadata": {},
   "cell_type": "code",
   "outputs": [],
   "execution_count": null,
   "source": [
    "t_stat, p_value = stats.ttest_ind(males_tenure, females_tenure, equal_var=False)\n",
    "print(\"t-statistic:\", t_stat)\n",
    "print(\"p-value:\", p_value)"
   ],
   "id": "2183c39c43120e6c"
  },
  {
   "metadata": {
    "ExecuteTime": {
     "end_time": "2025-10-26T17:31:02.503743Z",
     "start_time": "2025-10-26T17:31:02.501064Z"
    }
   },
   "cell_type": "code",
   "source": [
    "print(f\"Average tenure of males: {males_tenure.mean():.2f}\")\n",
    "print(f\"Average tenure of females: {females_tenure.mean():.2f}\")"
   ],
   "id": "4da354cfacd6789",
   "outputs": [
    {
     "name": "stdout",
     "output_type": "stream",
     "text": [
      "Average tenure of males: 32.57\n",
      "Average tenure of females: 32.13\n"
     ]
    }
   ],
   "execution_count": 25
  }
 ],
 "metadata": {
  "kernelspec": {
   "display_name": "Python 3",
   "language": "python",
   "name": "python3"
  },
  "language_info": {
   "codemirror_mode": {
    "name": "ipython",
    "version": 2
   },
   "file_extension": ".py",
   "mimetype": "text/x-python",
   "name": "python",
   "nbconvert_exporter": "python",
   "pygments_lexer": "ipython2",
   "version": "2.7.6"
  }
 },
 "nbformat": 4,
 "nbformat_minor": 5
}
