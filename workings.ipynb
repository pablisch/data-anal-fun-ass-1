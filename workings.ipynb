{
 "cells": [
  {
   "metadata": {},
   "cell_type": "markdown",
   "source": "# Data Analytics Fundamentals 1st Summative Assessment",
   "id": "8a77807f92f26ee"
  },
  {
   "metadata": {},
   "cell_type": "markdown",
   "source": [
    "Having set up a project with a virtual environment, upgrade pip and install pandas.\n",
    "\n",
    "```python -m pip install --upgrade pip```\n",
    "\n",
    "```pip --version```\n",
    "\n",
    "```pip install pandas matplotlib seaborn```"
   ],
   "id": "24c24b8790a1f4d6"
  },
  {
   "metadata": {},
   "cell_type": "code",
   "source": [
    "import pandas as pd\n",
    "import numpy as np\n",
    "import matplotlib.pyplot as plt\n",
    "import seaborn as sns\n",
    "\n",
    "%matplotlib inline\n",
    "sns.set_theme()\n",
    "\n",
    "print(\"Pandas version:\", pd.__version__)\n"
   ],
   "id": "64ad216778a1c675",
   "outputs": [],
   "execution_count": null
  },
  {
   "metadata": {
    "ExecuteTime": {
     "end_time": "2025-10-26T09:07:30.521274Z",
     "start_time": "2025-10-26T09:07:30.497315Z"
    }
   },
   "cell_type": "code",
   "source": [
    "cc = pd.read_csv(\"data/customerChurnData.csv\")\n",
    "cc.describe()"
   ],
   "id": "551ef097568b243b",
   "outputs": [
    {
     "data": {
      "text/plain": [
       "            Tenure   LocalCalls    LocalMins    IntlCalls     IntlMins  \\\n",
       "count  6687.000000  6687.000000  6687.000000  6687.000000  6687.000000   \n",
       "mean     32.337820   130.974129   322.752864    51.097524   130.070624   \n",
       "std      24.595689   121.893966   288.619931   103.592369   243.527828   \n",
       "min       1.000000     1.000000     4.000000     0.000000     0.000000   \n",
       "25%       9.000000    31.000000    76.900000     0.000000     0.000000   \n",
       "50%      29.000000    98.000000   250.500000     0.000000     0.000000   \n",
       "75%      55.000000   199.000000   498.050000    52.000000   140.400000   \n",
       "max      77.000000   918.000000  1234.200000  1120.000000  1372.500000   \n",
       "\n",
       "       ExtraInternationalCharges  CustomerServiceCalls  AvgMonthlyGBDownload  \\\n",
       "count                6687.000000           6687.000000           6687.000000   \n",
       "mean                   33.641783              0.915657              6.696276   \n",
       "std                    76.346828              1.411484              7.454339   \n",
       "min                     0.000000              0.000000              0.000000   \n",
       "25%                     0.000000              0.000000              1.000000   \n",
       "50%                     0.000000              0.000000              5.000000   \n",
       "75%                    16.400000              2.000000              9.000000   \n",
       "max                   585.800000              5.000000             43.000000   \n",
       "\n",
       "       ExtraDataCharges          Age  NrCustomers  MonthlyCharges  \\\n",
       "count       6687.000000  6687.000000  6687.000000     6687.000000   \n",
       "mean           3.374458    47.448632     0.837894       31.030357   \n",
       "std           12.565309    16.969893     1.700780       16.288147   \n",
       "min            0.000000    19.000000     0.000000        5.000000   \n",
       "25%            0.000000    33.000000     0.000000       16.000000   \n",
       "50%            0.000000    47.000000     0.000000       31.000000   \n",
       "75%            0.000000    60.000000     0.000000       43.000000   \n",
       "max           99.000000    85.000000     6.000000       78.000000   \n",
       "\n",
       "       TotalCharges  \n",
       "count   6687.000000  \n",
       "mean    1083.755645  \n",
       "std     1127.074863  \n",
       "min        6.000000  \n",
       "25%      181.000000  \n",
       "50%      647.000000  \n",
       "75%     1732.500000  \n",
       "max     5574.000000  "
      ],
      "text/html": [
       "<div>\n",
       "<style scoped>\n",
       "    .dataframe tbody tr th:only-of-type {\n",
       "        vertical-align: middle;\n",
       "    }\n",
       "\n",
       "    .dataframe tbody tr th {\n",
       "        vertical-align: top;\n",
       "    }\n",
       "\n",
       "    .dataframe thead th {\n",
       "        text-align: right;\n",
       "    }\n",
       "</style>\n",
       "<table border=\"1\" class=\"dataframe\">\n",
       "  <thead>\n",
       "    <tr style=\"text-align: right;\">\n",
       "      <th></th>\n",
       "      <th>Tenure</th>\n",
       "      <th>LocalCalls</th>\n",
       "      <th>LocalMins</th>\n",
       "      <th>IntlCalls</th>\n",
       "      <th>IntlMins</th>\n",
       "      <th>ExtraInternationalCharges</th>\n",
       "      <th>CustomerServiceCalls</th>\n",
       "      <th>AvgMonthlyGBDownload</th>\n",
       "      <th>ExtraDataCharges</th>\n",
       "      <th>Age</th>\n",
       "      <th>NrCustomers</th>\n",
       "      <th>MonthlyCharges</th>\n",
       "      <th>TotalCharges</th>\n",
       "    </tr>\n",
       "  </thead>\n",
       "  <tbody>\n",
       "    <tr>\n",
       "      <th>count</th>\n",
       "      <td>6687.000000</td>\n",
       "      <td>6687.000000</td>\n",
       "      <td>6687.000000</td>\n",
       "      <td>6687.000000</td>\n",
       "      <td>6687.000000</td>\n",
       "      <td>6687.000000</td>\n",
       "      <td>6687.000000</td>\n",
       "      <td>6687.000000</td>\n",
       "      <td>6687.000000</td>\n",
       "      <td>6687.000000</td>\n",
       "      <td>6687.000000</td>\n",
       "      <td>6687.000000</td>\n",
       "      <td>6687.000000</td>\n",
       "    </tr>\n",
       "    <tr>\n",
       "      <th>mean</th>\n",
       "      <td>32.337820</td>\n",
       "      <td>130.974129</td>\n",
       "      <td>322.752864</td>\n",
       "      <td>51.097524</td>\n",
       "      <td>130.070624</td>\n",
       "      <td>33.641783</td>\n",
       "      <td>0.915657</td>\n",
       "      <td>6.696276</td>\n",
       "      <td>3.374458</td>\n",
       "      <td>47.448632</td>\n",
       "      <td>0.837894</td>\n",
       "      <td>31.030357</td>\n",
       "      <td>1083.755645</td>\n",
       "    </tr>\n",
       "    <tr>\n",
       "      <th>std</th>\n",
       "      <td>24.595689</td>\n",
       "      <td>121.893966</td>\n",
       "      <td>288.619931</td>\n",
       "      <td>103.592369</td>\n",
       "      <td>243.527828</td>\n",
       "      <td>76.346828</td>\n",
       "      <td>1.411484</td>\n",
       "      <td>7.454339</td>\n",
       "      <td>12.565309</td>\n",
       "      <td>16.969893</td>\n",
       "      <td>1.700780</td>\n",
       "      <td>16.288147</td>\n",
       "      <td>1127.074863</td>\n",
       "    </tr>\n",
       "    <tr>\n",
       "      <th>min</th>\n",
       "      <td>1.000000</td>\n",
       "      <td>1.000000</td>\n",
       "      <td>4.000000</td>\n",
       "      <td>0.000000</td>\n",
       "      <td>0.000000</td>\n",
       "      <td>0.000000</td>\n",
       "      <td>0.000000</td>\n",
       "      <td>0.000000</td>\n",
       "      <td>0.000000</td>\n",
       "      <td>19.000000</td>\n",
       "      <td>0.000000</td>\n",
       "      <td>5.000000</td>\n",
       "      <td>6.000000</td>\n",
       "    </tr>\n",
       "    <tr>\n",
       "      <th>25%</th>\n",
       "      <td>9.000000</td>\n",
       "      <td>31.000000</td>\n",
       "      <td>76.900000</td>\n",
       "      <td>0.000000</td>\n",
       "      <td>0.000000</td>\n",
       "      <td>0.000000</td>\n",
       "      <td>0.000000</td>\n",
       "      <td>1.000000</td>\n",
       "      <td>0.000000</td>\n",
       "      <td>33.000000</td>\n",
       "      <td>0.000000</td>\n",
       "      <td>16.000000</td>\n",
       "      <td>181.000000</td>\n",
       "    </tr>\n",
       "    <tr>\n",
       "      <th>50%</th>\n",
       "      <td>29.000000</td>\n",
       "      <td>98.000000</td>\n",
       "      <td>250.500000</td>\n",
       "      <td>0.000000</td>\n",
       "      <td>0.000000</td>\n",
       "      <td>0.000000</td>\n",
       "      <td>0.000000</td>\n",
       "      <td>5.000000</td>\n",
       "      <td>0.000000</td>\n",
       "      <td>47.000000</td>\n",
       "      <td>0.000000</td>\n",
       "      <td>31.000000</td>\n",
       "      <td>647.000000</td>\n",
       "    </tr>\n",
       "    <tr>\n",
       "      <th>75%</th>\n",
       "      <td>55.000000</td>\n",
       "      <td>199.000000</td>\n",
       "      <td>498.050000</td>\n",
       "      <td>52.000000</td>\n",
       "      <td>140.400000</td>\n",
       "      <td>16.400000</td>\n",
       "      <td>2.000000</td>\n",
       "      <td>9.000000</td>\n",
       "      <td>0.000000</td>\n",
       "      <td>60.000000</td>\n",
       "      <td>0.000000</td>\n",
       "      <td>43.000000</td>\n",
       "      <td>1732.500000</td>\n",
       "    </tr>\n",
       "    <tr>\n",
       "      <th>max</th>\n",
       "      <td>77.000000</td>\n",
       "      <td>918.000000</td>\n",
       "      <td>1234.200000</td>\n",
       "      <td>1120.000000</td>\n",
       "      <td>1372.500000</td>\n",
       "      <td>585.800000</td>\n",
       "      <td>5.000000</td>\n",
       "      <td>43.000000</td>\n",
       "      <td>99.000000</td>\n",
       "      <td>85.000000</td>\n",
       "      <td>6.000000</td>\n",
       "      <td>78.000000</td>\n",
       "      <td>5574.000000</td>\n",
       "    </tr>\n",
       "  </tbody>\n",
       "</table>\n",
       "</div>"
      ]
     },
     "execution_count": 15,
     "metadata": {},
     "output_type": "execute_result"
    }
   ],
   "execution_count": 15
  },
  {
   "metadata": {
    "ExecuteTime": {
     "end_time": "2025-10-26T09:05:32.993986Z",
     "start_time": "2025-10-26T09:05:32.984035Z"
    }
   },
   "cell_type": "code",
   "source": "cc.head()",
   "id": "9e9a001a8793027a",
   "outputs": [
    {
     "data": {
      "text/plain": [
       "  CustomerID Churn  Tenure  LocalCalls  LocalMins  IntlCalls  IntlMins  \\\n",
       "0  4444-BZPU    No       1           3        8.0        0.0       0.0   \n",
       "1  5676-PTZX    No      33         179      431.3        0.0       0.0   \n",
       "2  8532-ZEKQ    No      44          82      217.6        0.0       0.0   \n",
       "3  1314-SMPJ    No      10          47      111.6       60.0      71.0   \n",
       "4  2956-TXCJ    No      62         184      621.2      310.0     694.4   \n",
       "\n",
       "  IntlActive IntlPlan  ExtraInternationalCharges  ...  Age  Under30 Senior  \\\n",
       "0         No       no                        0.0  ...   35       No     No   \n",
       "1         No       no                        0.0  ...   49       No     No   \n",
       "2         No      yes                        0.0  ...   51       No     No   \n",
       "3        Yes      yes                        0.0  ...   41       No     No   \n",
       "4        Yes      yes                        0.0  ...   51       No     No   \n",
       "\n",
       "   Group NrCustomers DeviceProtection&OnlineBackup        Contract  \\\n",
       "0     No           0                            No  Month-to-Month   \n",
       "1     No           0                           Yes        One Year   \n",
       "2     No           0                           Yes        One Year   \n",
       "3     No           0                            No  Month-to-Month   \n",
       "4     No           0                            No        One Year   \n",
       "\n",
       "   PaymentMethod MonthlyCharges TotalCharges  \n",
       "0   Direct Debit             10           10  \n",
       "1    Paper Check             21          703  \n",
       "2   Direct Debit             23         1014  \n",
       "3    Paper Check             17          177  \n",
       "4   Direct Debit             28         1720  \n",
       "\n",
       "[5 rows x 27 columns]"
      ],
      "text/html": [
       "<div>\n",
       "<style scoped>\n",
       "    .dataframe tbody tr th:only-of-type {\n",
       "        vertical-align: middle;\n",
       "    }\n",
       "\n",
       "    .dataframe tbody tr th {\n",
       "        vertical-align: top;\n",
       "    }\n",
       "\n",
       "    .dataframe thead th {\n",
       "        text-align: right;\n",
       "    }\n",
       "</style>\n",
       "<table border=\"1\" class=\"dataframe\">\n",
       "  <thead>\n",
       "    <tr style=\"text-align: right;\">\n",
       "      <th></th>\n",
       "      <th>CustomerID</th>\n",
       "      <th>Churn</th>\n",
       "      <th>Tenure</th>\n",
       "      <th>LocalCalls</th>\n",
       "      <th>LocalMins</th>\n",
       "      <th>IntlCalls</th>\n",
       "      <th>IntlMins</th>\n",
       "      <th>IntlActive</th>\n",
       "      <th>IntlPlan</th>\n",
       "      <th>ExtraInternationalCharges</th>\n",
       "      <th>...</th>\n",
       "      <th>Age</th>\n",
       "      <th>Under30</th>\n",
       "      <th>Senior</th>\n",
       "      <th>Group</th>\n",
       "      <th>NrCustomers</th>\n",
       "      <th>DeviceProtection&amp;OnlineBackup</th>\n",
       "      <th>Contract</th>\n",
       "      <th>PaymentMethod</th>\n",
       "      <th>MonthlyCharges</th>\n",
       "      <th>TotalCharges</th>\n",
       "    </tr>\n",
       "  </thead>\n",
       "  <tbody>\n",
       "    <tr>\n",
       "      <th>0</th>\n",
       "      <td>4444-BZPU</td>\n",
       "      <td>No</td>\n",
       "      <td>1</td>\n",
       "      <td>3</td>\n",
       "      <td>8.0</td>\n",
       "      <td>0.0</td>\n",
       "      <td>0.0</td>\n",
       "      <td>No</td>\n",
       "      <td>no</td>\n",
       "      <td>0.0</td>\n",
       "      <td>...</td>\n",
       "      <td>35</td>\n",
       "      <td>No</td>\n",
       "      <td>No</td>\n",
       "      <td>No</td>\n",
       "      <td>0</td>\n",
       "      <td>No</td>\n",
       "      <td>Month-to-Month</td>\n",
       "      <td>Direct Debit</td>\n",
       "      <td>10</td>\n",
       "      <td>10</td>\n",
       "    </tr>\n",
       "    <tr>\n",
       "      <th>1</th>\n",
       "      <td>5676-PTZX</td>\n",
       "      <td>No</td>\n",
       "      <td>33</td>\n",
       "      <td>179</td>\n",
       "      <td>431.3</td>\n",
       "      <td>0.0</td>\n",
       "      <td>0.0</td>\n",
       "      <td>No</td>\n",
       "      <td>no</td>\n",
       "      <td>0.0</td>\n",
       "      <td>...</td>\n",
       "      <td>49</td>\n",
       "      <td>No</td>\n",
       "      <td>No</td>\n",
       "      <td>No</td>\n",
       "      <td>0</td>\n",
       "      <td>Yes</td>\n",
       "      <td>One Year</td>\n",
       "      <td>Paper Check</td>\n",
       "      <td>21</td>\n",
       "      <td>703</td>\n",
       "    </tr>\n",
       "    <tr>\n",
       "      <th>2</th>\n",
       "      <td>8532-ZEKQ</td>\n",
       "      <td>No</td>\n",
       "      <td>44</td>\n",
       "      <td>82</td>\n",
       "      <td>217.6</td>\n",
       "      <td>0.0</td>\n",
       "      <td>0.0</td>\n",
       "      <td>No</td>\n",
       "      <td>yes</td>\n",
       "      <td>0.0</td>\n",
       "      <td>...</td>\n",
       "      <td>51</td>\n",
       "      <td>No</td>\n",
       "      <td>No</td>\n",
       "      <td>No</td>\n",
       "      <td>0</td>\n",
       "      <td>Yes</td>\n",
       "      <td>One Year</td>\n",
       "      <td>Direct Debit</td>\n",
       "      <td>23</td>\n",
       "      <td>1014</td>\n",
       "    </tr>\n",
       "    <tr>\n",
       "      <th>3</th>\n",
       "      <td>1314-SMPJ</td>\n",
       "      <td>No</td>\n",
       "      <td>10</td>\n",
       "      <td>47</td>\n",
       "      <td>111.6</td>\n",
       "      <td>60.0</td>\n",
       "      <td>71.0</td>\n",
       "      <td>Yes</td>\n",
       "      <td>yes</td>\n",
       "      <td>0.0</td>\n",
       "      <td>...</td>\n",
       "      <td>41</td>\n",
       "      <td>No</td>\n",
       "      <td>No</td>\n",
       "      <td>No</td>\n",
       "      <td>0</td>\n",
       "      <td>No</td>\n",
       "      <td>Month-to-Month</td>\n",
       "      <td>Paper Check</td>\n",
       "      <td>17</td>\n",
       "      <td>177</td>\n",
       "    </tr>\n",
       "    <tr>\n",
       "      <th>4</th>\n",
       "      <td>2956-TXCJ</td>\n",
       "      <td>No</td>\n",
       "      <td>62</td>\n",
       "      <td>184</td>\n",
       "      <td>621.2</td>\n",
       "      <td>310.0</td>\n",
       "      <td>694.4</td>\n",
       "      <td>Yes</td>\n",
       "      <td>yes</td>\n",
       "      <td>0.0</td>\n",
       "      <td>...</td>\n",
       "      <td>51</td>\n",
       "      <td>No</td>\n",
       "      <td>No</td>\n",
       "      <td>No</td>\n",
       "      <td>0</td>\n",
       "      <td>No</td>\n",
       "      <td>One Year</td>\n",
       "      <td>Direct Debit</td>\n",
       "      <td>28</td>\n",
       "      <td>1720</td>\n",
       "    </tr>\n",
       "  </tbody>\n",
       "</table>\n",
       "<p>5 rows × 27 columns</p>\n",
       "</div>"
      ]
     },
     "execution_count": 12,
     "metadata": {},
     "output_type": "execute_result"
    }
   ],
   "execution_count": 12
  },
  {
   "metadata": {},
   "cell_type": "markdown",
   "source": "### 1. What is the average age of customers who have not churned? (Rounded)",
   "id": "b18beedea2802974"
  },
  {
   "metadata": {},
   "cell_type": "markdown",
   "source": "Get only rows where \"Churn\" == \"No\"",
   "id": "5229a1bd2eb8806a"
  },
  {
   "metadata": {
    "ExecuteTime": {
     "end_time": "2025-10-26T08:58:37.202645Z",
     "start_time": "2025-10-26T08:58:37.198600Z"
    }
   },
   "cell_type": "code",
   "source": "not_churned = cc[cc[\"Churn\"] == \"No\"]\n",
   "id": "c8841d3d42b8d31d",
   "outputs": [],
   "execution_count": 8
  },
  {
   "metadata": {},
   "cell_type": "markdown",
   "source": "Get the average age of this df",
   "id": "faa42e8eb7ab1ebb"
  },
  {
   "metadata": {
    "ExecuteTime": {
     "end_time": "2025-10-26T08:58:39.326867Z",
     "start_time": "2025-10-26T08:58:39.324390Z"
    }
   },
   "cell_type": "code",
   "source": [
    "ave_age_not_churned = not_churned[\"Age\"].mean()\n",
    "ave_age_not_churned # => 46.34307912492333"
   ],
   "id": "fc47a69327f54f7e",
   "outputs": [
    {
     "data": {
      "text/plain": [
       "np.float64(46.34307912492333)"
      ]
     },
     "execution_count": 9,
     "metadata": {},
     "output_type": "execute_result"
    }
   ],
   "execution_count": 9
  },
  {
   "metadata": {
    "ExecuteTime": {
     "end_time": "2025-10-26T09:01:05.995802Z",
     "start_time": "2025-10-26T09:01:05.993749Z"
    }
   },
   "cell_type": "code",
   "source": "print(f\"Average rounded age of customers who have not churned is {round(ave_age_not_churned)}\") # => 46",
   "id": "bcfaa3d8b7b5c69",
   "outputs": [
    {
     "name": "stdout",
     "output_type": "stream",
     "text": [
      "Average age of customers who have not churned is 46\n"
     ]
    }
   ],
   "execution_count": 11
  },
  {
   "metadata": {},
   "cell_type": "markdown",
   "source": "### 2. What percentage of customers have an International Plan?",
   "id": "1a3def3a0aef9b41"
  },
  {
   "metadata": {},
   "cell_type": "markdown",
   "source": "Find the total number of customers and the number who have an international plan",
   "id": "1ab340b77a68393c"
  },
  {
   "metadata": {
    "ExecuteTime": {
     "end_time": "2025-10-26T09:11:20.405742Z",
     "start_time": "2025-10-26T09:11:20.403356Z"
    }
   },
   "cell_type": "code",
   "source": [
    "\n",
    "num_customers = cc.shape[0]\n",
    "print(f\"There are {num_customers} customers in total\")\n"
   ],
   "id": "eabc3344f917eda4",
   "outputs": [
    {
     "name": "stdout",
     "output_type": "stream",
     "text": [
      "There are 6687 customers in total\n"
     ]
    }
   ],
   "execution_count": 17
  },
  {
   "metadata": {
    "ExecuteTime": {
     "end_time": "2025-10-26T09:10:13.795683Z",
     "start_time": "2025-10-26T09:10:13.791339Z"
    }
   },
   "cell_type": "code",
   "outputs": [
    {
     "name": "stdout",
     "output_type": "stream",
     "text": [
      "651 customers have an international plan\n"
     ]
    }
   ],
   "execution_count": 16,
   "source": [
    "has_intl_plan = cc[cc[\"IntlPlan\"] == \"yes\"]\n",
    "num_with_intl_plan = has_intl_plan.shape[0]\n",
    "print(f\"{num_with_intl_plan} customers have an international plan\")\n"
   ],
   "id": "948b8f6eed516ba6"
  },
  {
   "metadata": {},
   "cell_type": "markdown",
   "source": "Extrapolate the percentage",
   "id": "32817a8f5218ee83"
  },
  {
   "metadata": {
    "ExecuteTime": {
     "end_time": "2025-10-26T09:14:39.065425Z",
     "start_time": "2025-10-26T09:14:39.062934Z"
    }
   },
   "cell_type": "code",
   "source": [
    "per_with_intl_plan = (num_with_intl_plan / num_customers) * 100\n",
    "print(f\"{per_with_intl_plan:.2f}% of customers have an international plan\")"
   ],
   "id": "4a6fe22d9b125541",
   "outputs": [
    {
     "name": "stdout",
     "output_type": "stream",
     "text": [
      "9.74% of customers have an international plan\n"
     ]
    }
   ],
   "execution_count": 21
  },
  {
   "metadata": {},
   "cell_type": "markdown",
   "source": "### 3. What is the median monthly charges for all customers?",
   "id": "42ee4b6bb1641efd"
  },
  {
   "metadata": {
    "ExecuteTime": {
     "end_time": "2025-10-26T09:19:17.464474Z",
     "start_time": "2025-10-26T09:19:17.461457Z"
    }
   },
   "cell_type": "code",
   "source": "cc[\"MonthlyCharges\"].dtype",
   "id": "ef47c91db393b026",
   "outputs": [
    {
     "data": {
      "text/plain": [
       "dtype('int64')"
      ]
     },
     "execution_count": 23,
     "metadata": {},
     "output_type": "execute_result"
    }
   ],
   "execution_count": 23
  },
  {
   "metadata": {
    "ExecuteTime": {
     "end_time": "2025-10-26T09:20:39.210168Z",
     "start_time": "2025-10-26T09:20:39.206948Z"
    }
   },
   "cell_type": "code",
   "source": [
    "median_monthly_charge = cc[\"MonthlyCharges\"].median()\n",
    "print(f\"The median monthly charge for all customers is {median_monthly_charge}\")"
   ],
   "id": "6e3fe7f27e4d0863",
   "outputs": [
    {
     "name": "stdout",
     "output_type": "stream",
     "text": [
      "The median monthly charge for all customers is 31.0\n"
     ]
    }
   ],
   "execution_count": 26
  },
  {
   "metadata": {},
   "cell_type": "markdown",
   "source": "### 4. Generate a bar chart showing the count of customers who churned vs. those who did not. Which group is larger?",
   "id": "71848881e9aed0da"
  },
  {
   "metadata": {
    "ExecuteTime": {
     "end_time": "2025-10-26T09:26:39.319282Z",
     "start_time": "2025-10-26T09:26:39.315375Z"
    }
   },
   "cell_type": "code",
   "source": [
    "churn_counts = cc[\"Churn\"].value_counts()\n",
    "churn_counts\n"
   ],
   "id": "b6bb89ae54982e45",
   "outputs": [
    {
     "data": {
      "text/plain": [
       "Churn\n",
       "No     4891\n",
       "Yes    1796\n",
       "Name: count, dtype: int64"
      ]
     },
     "execution_count": 30,
     "metadata": {},
     "output_type": "execute_result"
    }
   ],
   "execution_count": 30
  },
  {
   "metadata": {
    "ExecuteTime": {
     "end_time": "2025-10-26T09:26:41.764122Z",
     "start_time": "2025-10-26T09:26:41.723681Z"
    }
   },
   "cell_type": "code",
   "source": "churn_counts.plot(kind=\"bar\")\n",
   "id": "8c906000f536477c",
   "outputs": [
    {
     "data": {
      "text/plain": [
       "<Axes: xlabel='Churn'>"
      ]
     },
     "execution_count": 31,
     "metadata": {},
     "output_type": "execute_result"
    },
    {
     "data": {
      "text/plain": [
       "<Figure size 640x480 with 1 Axes>"
      ],
      "image/png": "[encoded data removed]"
     },
     "metadata": {},
     "output_type": "display_data",
     "jetTransient": {
      "display_id": null
     }
    }
   ],
   "execution_count": 31
  },
  {
   "metadata": {
    "ExecuteTime": {
     "end_time": "2025-10-26T09:26:46.619965Z",
     "start_time": "2025-10-26T09:26:46.571949Z"
    }
   },
   "cell_type": "code",
   "source": [
    "churn_counts.plot(kind=\"bar\", color=[\"skyblue\", \"salmon\"])\n",
    "plt.title(\"Customer Churn Count\")\n",
    "plt.xlabel(\"Churn Status\")\n",
    "plt.ylabel(\"Number of Customers\")\n",
    "plt.show()"
   ],
   "id": "16323e46c042981b",
   "outputs": [
    {
     "data": {
      "text/plain": [
       "<Figure size 640x480 with 1 Axes>"
      ],
      "image/png": "[encoded data removed]"
     },
     "metadata": {},
     "output_type": "display_data",
     "jetTransient": {
      "display_id": null
     }
    }
   ],
   "execution_count": 32
  },
  {
   "metadata": {},
   "cell_type": "markdown",
   "source": "The group that did not churn (\"No\") is the larger group",
   "id": "a016a310891808e7"
  },
  {
   "metadata": {},
   "cell_type": "markdown",
   "source": "### 5. What is the average number of customer service calls for customers who churned?",
   "id": "51d44a4280378751"
  },
  {
   "metadata": {},
   "cell_type": "markdown",
   "source": "First, we get a df for customers who churned",
   "id": "3d25bbd2f773dd4b"
  },
  {
   "metadata": {
    "ExecuteTime": {
     "end_time": "2025-10-26T09:30:24.123343Z",
     "start_time": "2025-10-26T09:30:24.118138Z"
    }
   },
   "cell_type": "code",
   "source": [
    "churners = cc[cc[\"Churn\"] == \"Yes\"]\n",
    "churners[\"Churn\"].value_counts()"
   ],
   "id": "b01be00def62f7ab",
   "outputs": [
    {
     "data": {
      "text/plain": [
       "Churn\n",
       "Yes    1796\n",
       "Name: count, dtype: int64"
      ]
     },
     "execution_count": 34,
     "metadata": {},
     "output_type": "execute_result"
    }
   ],
   "execution_count": 34
  },
  {
   "metadata": {},
   "cell_type": "markdown",
   "source": "Then get the mean number of service calls for that group",
   "id": "8f71c8ca62fcaec3"
  },
  {
   "metadata": {
    "ExecuteTime": {
     "end_time": "2025-10-26T09:34:36.130241Z",
     "start_time": "2025-10-26T09:34:36.128215Z"
    }
   },
   "cell_type": "code",
   "source": [
    "ave_serv_calls = churners[\"CustomerServiceCalls\"].mean()\n",
    "print(f\"The average number of service calls for customers who churned is {ave_serv_calls:.2f}\")"
   ],
   "id": "899093cccf28e953",
   "outputs": [
    {
     "name": "stdout",
     "output_type": "stream",
     "text": [
      "The average number of service calls for customers who churned is 2.40\n"
     ]
    }
   ],
   "execution_count": 36
  },
  {
   "metadata": {},
   "cell_type": "markdown",
   "source": "### 6. Create a histogram - What is the most common tenure range shown in the histogram?",
   "id": "bbab6cc7a973a6c"
  },
  {
   "metadata": {
    "ExecuteTime": {
     "end_time": "2025-10-26T09:47:35.816203Z",
     "start_time": "2025-10-26T09:47:35.813280Z"
    }
   },
   "cell_type": "code",
   "outputs": [
    {
     "data": {
      "text/plain": [
       "dtype('int64')"
      ]
     },
     "execution_count": 37,
     "metadata": {},
     "output_type": "execute_result"
    }
   ],
   "execution_count": 37,
   "source": "cc[\"Tenure\"].dtype",
   "id": "36456ecc70c134fa"
  },
  {
   "metadata": {
    "ExecuteTime": {
     "end_time": "2025-10-26T09:55:29.008439Z",
     "start_time": "2025-10-26T09:55:29.005663Z"
    }
   },
   "cell_type": "code",
   "outputs": [
    {
     "name": "stdout",
     "output_type": "stream",
     "text": [
      "Tenures range between 1 and 77 months\n"
     ]
    }
   ],
   "execution_count": 57,
   "source": [
    "tenure = cc[\"Tenure\"]\n",
    "print(f\"Tenures range between {tenure.min()} and {tenure.max()} months\")"
   ],
   "id": "f5c22d39d8caa87e"
  },
  {
   "metadata": {
    "ExecuteTime": {
     "end_time": "2025-10-26T09:55:25.127487Z",
     "start_time": "2025-10-26T09:55:25.125372Z"
    }
   },
   "cell_type": "code",
   "outputs": [],
   "execution_count": 55,
   "source": "tenure_bin = 77",
   "id": "18d9126be57ae012"
  },
  {
   "metadata": {
    "ExecuteTime": {
     "end_time": "2025-10-26T09:55:26.697218Z",
     "start_time": "2025-10-26T09:55:26.620419Z"
    }
   },
   "cell_type": "code",
   "outputs": [
    {
     "data": {
      "text/plain": [
       "<Figure size 640x480 with 1 Axes>"
      ],
      "image/png": "[encoded data removed]"
     },
     "metadata": {},
     "output_type": "display_data",
     "jetTransient": {
      "display_id": null
     }
    }
   ],
   "execution_count": 56,
   "source": [
    "cc[\"Tenure\"].plot(kind=\"hist\", bins=tenure_bin, color=\"skyblue\", edgecolor=\"black\")\n",
    "plt.title(\"Distribution of Customer Tenure\")\n",
    "plt.xlabel(\"Tenure (months)\")\n",
    "plt.ylabel(\"Number of Customers\")\n",
    "plt.show()\n"
   ],
   "id": "af501fd459ade320"
  },
  {
   "metadata": {
    "ExecuteTime": {
     "end_time": "2025-10-26T09:56:09.736357Z",
     "start_time": "2025-10-26T09:56:09.594687Z"
    }
   },
   "cell_type": "code",
   "source": [
    "import seaborn as sns\n",
    "sns.histplot(cc[\"Tenure\"], bins=tenure_bin, kde=False, color=\"skyblue\")\n",
    "plt.title(\"Distribution of Customer Tenure\")\n",
    "plt.xlabel(\"Tenure (months)\")\n",
    "plt.ylabel(\"Number of Customers\")\n",
    "plt.show()\n"
   ],
   "id": "cea37c25858e00ff",
   "outputs": [
    {
     "data": {
      "text/plain": [
       "<Figure size 640x480 with 1 Axes>"
      ],
      "image/png": "[encoded data removed]"
     },
     "metadata": {},
     "output_type": "display_data",
     "jetTransient": {
      "display_id": null
     }
    }
   ],
   "execution_count": 58
  }
 ],
 "metadata": {
  "kernelspec": {
   "display_name": "Python 3",
   "language": "python",
   "name": "python3"
  },
  "language_info": {
   "codemirror_mode": {
    "name": "ipython",
    "version": 2
   },
   "file_extension": ".py",
   "mimetype": "text/x-python",
   "name": "python",
   "nbconvert_exporter": "python",
   "pygments_lexer": "ipython2",
   "version": "2.7.6"
  }
 },
 "nbformat": 4,
 "nbformat_minor": 5
}
